{
 "cells": [
  {
   "cell_type": "code",
   "execution_count": null,
   "metadata": {},
   "outputs": [],
   "source": [
    "# Import Modules\n",
    "from lxml import etree"
   ]
  },
  {
   "cell_type": "code",
   "execution_count": null,
   "metadata": {},
   "outputs": [],
   "source": [
    "# pasing the xml file\n",
    "xmlFile = './data/sample.xml'\n",
    "tree = etree.parse(xmlFile)"
   ]
  },
  {
   "cell_type": "code",
   "execution_count": null,
   "metadata": {},
   "outputs": [],
   "source": [
    "# xpath example: first cd and it's title\n",
    "r = tree.xpath('/catalog/cd[1]/title')\n",
    "for title in r:\n",
    "    print(title.tag, title.text)\n",
    "r = None"
   ]
  },
  {
   "cell_type": "code",
   "execution_count": null,
   "metadata": {},
   "outputs": [],
   "source": [
    "# xpath example: last cd and it's title\n",
    "r = tree.xpath('/catalog/cd[last()]/title')\n",
    "for title in r:\n",
    "    print(title.tag, title.text)\n",
    "r = None"
   ]
  },
  {
   "cell_type": "code",
   "execution_count": null,
   "metadata": {},
   "outputs": [],
   "source": [
    "# xpath example: first 2 cds and their titles\n",
    "r = tree.xpath('/catalog/cd[position() < 3]/title')\n",
    "for title in r:\n",
    "    print(title.tag, title.text)\n",
    "r = None"
   ]
  },
  {
   "cell_type": "code",
   "execution_count": null,
   "metadata": {},
   "outputs": [],
   "source": [
    "# xpath example: Find the cd titles if the cd price is greated than 10, print the price and title.\n",
    "r = tree.xpath('/catalog/cd[price > 10]/title')\n",
    "for title in r:\n",
    "    price = title.getparent().xpath('price')[0]    # result is 'title' element,\n",
    "    # getparent() takes us to 'cd' element, and \"xpath('price')[0]\" gives us the 'price' element\n",
    "    print(price.text, title.text)\n",
    "r = None"
   ]
  },
  {
   "cell_type": "code",
   "execution_count": null,
   "metadata": {},
   "outputs": [],
   "source": [
    "# xpath example: Find the cd titles if the cd price is greated than 10, print the price and title.\n",
    "r = tree.xpath('/catalog/cd[price > 10]/title')\n",
    "for title in r:\n",
    "    price = title.xpath('../price')[0]    # result is 'title' element,\n",
    "    # '..' takes us to the parent 'cd' element, and '//price'[0] gives us the first 'price' element\n",
    "    print(price.text, title.text)\n",
    "r = None"
   ]
  },
  {
   "cell_type": "code",
   "execution_count": null,
   "metadata": {},
   "outputs": [],
   "source": [
    "# xpath example: Find all 'artist' elements and their countrty\n",
    "r = tree.xpath('//artist')\n",
    "for item in r:\n",
    "    print(item.xpath('../country')[0].text, item.text)\n",
    "r = None"
   ]
  },
  {
   "cell_type": "code",
   "execution_count": null,
   "metadata": {},
   "outputs": [],
   "source": [
    "# xpath example: Find all price elements child of cd elements that is greater than 10   \n",
    "r = tree.xpath('//cd[price > 10]/price')\n",
    "for item in r:\n",
    "    print(item.tag, item.text)\n",
    "    \n",
    "r = None"
   ]
  },
  {
   "cell_type": "code",
   "execution_count": null,
   "metadata": {},
   "outputs": [],
   "source": [
    "# xpath example: Find all price elementsgreater than 10 no matter where they are located\n",
    "r = tree.xpath('//price[. > 10]')\n",
    "for item in r:\n",
    "    print(item.tag, item.text)\n",
    "r = None"
   ]
  },
  {
   "cell_type": "code",
   "execution_count": null,
   "metadata": {},
   "outputs": [],
   "source": []
  }
 ],
 "metadata": {
  "kernelspec": {
   "display_name": "Python 3",
   "language": "python",
   "name": "python3"
  },
  "language_info": {
   "codemirror_mode": {
    "name": "ipython",
    "version": 3
   },
   "file_extension": ".py",
   "mimetype": "text/x-python",
   "name": "python",
   "nbconvert_exporter": "python",
   "pygments_lexer": "ipython3",
   "version": "3.6.7"
  }
 },
 "nbformat": 4,
 "nbformat_minor": 2
}
